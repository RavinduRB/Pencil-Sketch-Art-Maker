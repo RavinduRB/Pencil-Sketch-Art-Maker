{
 "cells": [
  {
   "cell_type": "code",
   "execution_count": 1,
   "id": "9fc2adca-c5e1-472e-8931-c2e912044172",
   "metadata": {},
   "outputs": [
    {
     "name": "stdout",
     "output_type": "stream",
     "text": [
      "Requirement already satisfied: opencv-python in c:\\users\\asus\\anaconda3\\lib\\site-packages (4.10.0.84)\n",
      "Requirement already satisfied: numpy>=1.21.2 in c:\\users\\asus\\anaconda3\\lib\\site-packages (from opencv-python) (1.26.4)\n",
      "Note: you may need to restart the kernel to use updated packages.\n"
     ]
    }
   ],
   "source": [
    "pip install opencv-python"
   ]
  },
  {
   "cell_type": "code",
   "execution_count": 2,
   "id": "e1641ddd-f8ed-4c38-9dea-b4680229261d",
   "metadata": {},
   "outputs": [
    {
     "name": "stdout",
     "output_type": "stream",
     "text": [
      "Requirement already satisfied: numpy in c:\\users\\asus\\anaconda3\\lib\\site-packages (1.26.4)\n",
      "Note: you may need to restart the kernel to use updated packages.\n"
     ]
    }
   ],
   "source": [
    "pip install numpy"
   ]
  },
  {
   "cell_type": "code",
   "execution_count": null,
   "id": "aa1aa0d1-ee73-4d3c-b0f4-824efe34464f",
   "metadata": {},
   "outputs": [],
   "source": [
    "import tkinter as tk\n",
    "from tkinter import filedialog, messagebox\n",
    "from PIL import Image, ImageTk, ImageFilter, ImageOps\n",
    "import cv2\n",
    "import numpy as np\n",
    "\n",
    "file_path = None  # Global variable to store the file path\n",
    "sketch_img_pil = None  # Global variable to store the sketch image in PIL format\n",
    "\n",
    "def convert_to_sketch(original_img):\n",
    "    try:\n",
    "        # Convert the image to grayscale\n",
    "        gray_img = cv2.cvtColor(original_img, cv2.COLOR_BGR2GRAY)\n",
    "        # Invert the grayscale image\n",
    "        inverted_gray_img = 255 - gray_img\n",
    "        # Blur the inverted grayscale image\n",
    "        blurred_img = cv2.GaussianBlur(inverted_gray_img, (21, 21), 0)\n",
    "        # Invert the blurred image\n",
    "        inverted_blurred_img = 255 - blurred_img\n",
    "        # Blend the inverted blurred image with the grayscale image using Color Dodge\n",
    "        pencil_sketch_img = cv2.divide(gray_img, inverted_blurred_img, scale=256.0)\n",
    "        return pencil_sketch_img\n",
    "    except Exception as e:\n",
    "        messagebox.showerror(\"Error\", f\"An error occurred: {str(e)}\")\n",
    "        return None\n",
    "\n",
    "def open_file():\n",
    "    global file_path\n",
    "    file_path = filedialog.askopenfilename(filetypes=[(\"Image Files\", \"*.jpg;*.jpeg;*.png;*.bmp;*.gif\")])\n",
    "    if file_path:\n",
    "        original_img = cv2.imread(file_path)\n",
    "        if original_img is not None:\n",
    "            display_original_image(original_img)\n",
    "\n",
    "def display_original_image(original_img):\n",
    "    # Resize the image to fit in the canvas\n",
    "    original_img = cv2.resize(original_img, (200, 200))\n",
    "    # Convert image to PIL format\n",
    "    original_img_pil = Image.fromarray(cv2.cvtColor(original_img, cv2.COLOR_BGR2RGB))\n",
    "    # Convert image to Tkinter format\n",
    "    original_img_tk = ImageTk.PhotoImage(original_img_pil)\n",
    "    # Display original image on canvas\n",
    "    canvas.create_image(0, 0, anchor=tk.NW, image=original_img_tk)\n",
    "    # Save reference to avoid garbage collection\n",
    "    canvas.original_img = original_img_tk\n",
    "\n",
    "def create_sketch():\n",
    "    global file_path, sketch_img_pil\n",
    "    # Check if an image has been opened\n",
    "    if file_path:\n",
    "        original_img = cv2.imread(file_path)\n",
    "        # Convert the original image to sketch\n",
    "        sketch_img = convert_to_sketch(original_img)\n",
    "        if sketch_img is not None:\n",
    "            # Convert sketch image to PIL format\n",
    "            sketch_img_pil = Image.fromarray(sketch_img)\n",
    "            # Resize sketch image to fit canvas\n",
    "            sketch_img_pil = sketch_img_pil.resize((200, 200))\n",
    "            # Convert sketch image to Tkinter format\n",
    "            sketch_img_tk = ImageTk.PhotoImage(sketch_img_pil)\n",
    "            # Display sketch image on canvas\n",
    "            canvas.create_image(210, 0, anchor=tk.NW, image=sketch_img_tk)\n",
    "            # Save reference to avoid garbage collection\n",
    "            canvas.sketch_img = sketch_img_tk\n",
    "        else:\n",
    "            messagebox.showinfo(\"Info\", \"Please open an image first.\")\n",
    "\n",
    "def save_sketch():\n",
    "    global sketch_img_pil\n",
    "    if sketch_img_pil:\n",
    "        save_path = filedialog.asksaveasfilename(defaultextension=\".png\", filetypes=[(\"PNG files\", \"*.png\"), (\"All files\", \"*.*\")])\n",
    "        if save_path:\n",
    "            sketch_img_pil.save(save_path)\n",
    "            messagebox.showinfo(\"Success\", \"Sketch saved successfully!\")\n",
    "    else:\n",
    "        messagebox.showinfo(\"Info\", \"No sketch available to save. Please create a sketch first.\")\n",
    "\n",
    "root = tk.Tk()\n",
    "root.title(\"Image to Pencil Sketch Converter\")\n",
    "\n",
    "# Create a label for the title of the project\n",
    "title_label = tk.Label(root, text=\"Create Pencil Sketch Art\", fg=\"dark orange\", font=(\"Snap ITC\", 20, \"bold\"))\n",
    "title_label.pack()\n",
    "\n",
    "# Create a label for selecting an image\n",
    "label = tk.Label(root, text=\"Select an image from folder:\")\n",
    "label.pack()\n",
    "\n",
    "# Create buttons\n",
    "open_button = tk.Button(root, text=\"Open Image\", command=open_file)\n",
    "open_button.pack(pady=10)\n",
    "\n",
    "sketch_button = tk.Button(root, text=\"Create Sketch\", command=create_sketch)\n",
    "sketch_button.pack(pady=10)\n",
    "\n",
    "save_button = tk.Button(root, text=\"Save Sketch\", command=save_sketch)\n",
    "save_button.pack(pady=10)\n",
    "\n",
    "# Create canvas for displaying images\n",
    "canvas = tk.Canvas(root, width=420, height=200)\n",
    "canvas.pack()\n",
    "\n",
    "root.mainloop()\n"
   ]
  },
  {
   "cell_type": "code",
   "execution_count": null,
   "id": "f21a56cb-4fe5-4070-acb6-b0b74d9bf9bf",
   "metadata": {},
   "outputs": [],
   "source": []
  }
 ],
 "metadata": {
  "kernelspec": {
   "display_name": "Python 3 (ipykernel)",
   "language": "python",
   "name": "python3"
  },
  "language_info": {
   "codemirror_mode": {
    "name": "ipython",
    "version": 3
   },
   "file_extension": ".py",
   "mimetype": "text/x-python",
   "name": "python",
   "nbconvert_exporter": "python",
   "pygments_lexer": "ipython3",
   "version": "3.11.7"
  }
 },
 "nbformat": 4,
 "nbformat_minor": 5
}
